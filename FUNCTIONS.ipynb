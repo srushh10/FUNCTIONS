{
  "nbformat": 4,
  "nbformat_minor": 0,
  "metadata": {
    "colab": {
      "provenance": []
    },
    "kernelspec": {
      "name": "python3",
      "display_name": "Python 3"
    },
    "language_info": {
      "name": "python"
    }
  },
  "cells": [
    {
      "cell_type": "code",
      "execution_count": null,
      "metadata": {
        "id": "0G1hR6_4Im5J"
      },
      "outputs": [],
      "source": []
    },
    {
      "cell_type": "markdown",
      "source": [
        "THEORY QUESTIONS"
      ],
      "metadata": {
        "id": "w37EldWWI0yz"
      }
    },
    {
      "cell_type": "code",
      "source": [],
      "metadata": {
        "id": "BsZeBmUPIucQ"
      },
      "execution_count": null,
      "outputs": []
    },
    {
      "cell_type": "markdown",
      "source": [
        " What is the difference between a function and a method in Python?\n",
        "\n",
        "\n",
        "A function is a block of code that can be called from anywhere, while a method is a function that is associated with an object or class.\n",
        "\n",
        "\n",
        "\n",
        "\n"
      ],
      "metadata": {
        "id": "lUEvdgVVI-ii"
      }
    },
    {
      "cell_type": "markdown",
      "source": [
        " Explain the concept of function arguments and parameters in Python.\n",
        "\n",
        "\n",
        "Parameters are variables defined in a function declaration. This act as placeholders for the values (arguments) that will be passed to the function.\n",
        "Arguments are the actual values that you pass to the function when you call it. These values replace the parameters defined in the function.\n",
        "\n"
      ],
      "metadata": {
        "id": "KgktgYPxJUrL"
      }
    },
    {
      "cell_type": "markdown",
      "source": [
        " What are the different ways to define and call a function in Python?\n",
        "\n",
        "\n",
        "In Python, you can define a function using the def keyword, and call it by specifying its name. You can also use the lambda keyword to define an anonymous function.\n",
        "Defining a function\n",
        "Use the def keyword\n",
        "Write the function name\n",
        "Add parentheses and a colon\n",
        "Indent with a tab or four spaces\n",
        "Specify what the function should do\n",
        "Calling a function\n",
        "Specify the function name\n",
        "\n",
        "\n"
      ],
      "metadata": {
        "id": "iHcWwbQSJqaA"
      }
    },
    {
      "cell_type": "markdown",
      "source": [
        "What is the purpose of the `return` statement in a Python function?\n",
        "\n",
        "\n",
        " Determines the value that the function will return. If not included, the function defaults to returning None.\n",
        "\n",
        "\n"
      ],
      "metadata": {
        "id": "c7NpxUvjLmKm"
      }
    },
    {
      "cell_type": "markdown",
      "source": [
        " What are iterators in Python and how do they differ from iterables?\n",
        "\n",
        "\n",
        " An iterator is an object that allows traversal through a countable number of values. It is used to iterate over iterable objects like lists, tuples, sets, etc.\n",
        "\n",
        "\n"
      ],
      "metadata": {
        "id": "JtNDhtgoL04a"
      }
    },
    {
      "cell_type": "markdown",
      "source": [
        " Explain the concept of generators in Python and how they are defined.\n",
        "\n",
        "\n",
        "\n",
        "\n",
        " Generators are a simple way to create iterators using functions and the yield keyword instead of returning values.\n",
        "\n",
        "\n"
      ],
      "metadata": {
        "id": "YwU0yGl3MHw8"
      }
    },
    {
      "cell_type": "markdown",
      "source": [
        "What are the advantages of using generators over regular functions?\n",
        "\n",
        "\n",
        "Advantages:\n",
        "\n",
        "Efficient Memory Usage: Generators do not store the entire sequence in memory, making them suitable for large datasets or infinite sequences.\n",
        "Simpler Syntax: Using yield simplifies the creation of iterators, making the code more concise and readable.\n",
        "\n",
        "\n"
      ],
      "metadata": {
        "id": "CImyUud1Mfq4"
      }
    },
    {
      "cell_type": "markdown",
      "source": [
        " What is a lambda function in Python and when is it typically used?\n",
        "\n",
        "\n",
        "\n",
        "Lambda functions are small, anonymous functions defined using the lambda keyword. They are used for creating small, throwaway functions without the need to formally define a function using def.\n",
        "Syntax:\n",
        "\n",
        "lambda arguments: expression\n",
        "\n",
        "\n",
        "\n"
      ],
      "metadata": {
        "id": "lUP1QSvDMo6W"
      }
    },
    {
      "cell_type": "markdown",
      "source": [
        "Explain the purpose and usage of the `map()` function in Python.\n",
        "\n",
        "\n",
        " The map function applies a given function to all items in an input iterable (like a list) and returns an iterator with the results.\n",
        "\n",
        "Key Points:\n",
        "\n",
        "Transformation: Used to transform each item in an iterable by applying the specified function.\n",
        "Syntax:\n",
        "\n",
        "map(function, iterable)\n",
        "\n",
        "\n",
        "\n",
        "\n"
      ],
      "metadata": {
        "id": "0f2rYIE7M-uK"
      }
    },
    {
      "cell_type": "markdown",
      "source": [
        " What is the difference between `map()`, `reduce()`, and `filter()` functions in Python?\n",
        "\n",
        "\n",
        "Map Functions:\n",
        "\n",
        "\n",
        "\n",
        "Definition: The map function applies a given function to all items in an input iterable (like a list) and returns an iterator with the results.\n",
        "\n",
        "Key Points:\n",
        "\n",
        "Transformation: Used to transform each item in an iterable by applying the specified function.\n",
        "Syntax:\n",
        "\n",
        "map(function, iterable)\n",
        "\n",
        "\n",
        "Reduce Functions:\n",
        "\n",
        "Definition: The reduce function from the functools module applies a given function cumulatively to the items of a sequence, from left to right, to reduce the sequence to a single value.\n",
        "\n",
        "Key Points:\n",
        "\n",
        "Cumulative Operation: It reduces an iterable to a single cumulative value by applying the function cumulatively.\n",
        "Syntax:\n",
        "\n",
        "from functools import reduce\n",
        "\n",
        "reduce(function, iterable)\n",
        "Filter Functions:\n",
        "\n",
        "Definition: The filter function constructs an iterator from elements of an iterable for which a specified function returns True.\n",
        "\n",
        "Key Points:\n",
        "\n",
        "Selection: Used for filtering elements from an iterable based on a condition defined by the function.\n",
        "Syntax:\n",
        "\n",
        "filter(function, iterable)\n",
        "\n",
        "\n",
        "\n",
        "\n"
      ],
      "metadata": {
        "id": "9Gg1S9CJNO7C"
      }
    },
    {
      "cell_type": "markdown",
      "source": [
        " Using pen & Paper write the internal mechanism for sum operation using  reduce function on this given\n",
        "list:[47,11,42,13];\n",
        "\n",
        "\n",
        "from functools import reduce\n",
        "\n",
        "# Function to add two numbers\n",
        "def add(x, y):\n",
        "    return x + y\n",
        "\n",
        "a = [47,11,42,13]\n",
        "res = reduce(add, a)\n",
        "\n",
        "print(res)\n",
        "\n",
        "\n"
      ],
      "metadata": {
        "id": "a1KtKhEANp0U"
      }
    },
    {
      "cell_type": "markdown",
      "source": [
        "PRACTICAL QUESTIONS"
      ],
      "metadata": {
        "id": "ldehybfhPAzw"
      }
    },
    {
      "cell_type": "markdown",
      "source": [
        "1. Write a Python function that takes a list of numbers as input and returns the sum of all even numbers in\n",
        "the list."
      ],
      "metadata": {
        "id": "zNfZ9TbvPIqs"
      }
    },
    {
      "cell_type": "code",
      "source": [
        "# initializing list\n",
        "test_list = [345, 893, 1948, 34, 2346]\n",
        "\n",
        "# printing original list\n",
        "print(\"The original list is : \" + str(test_list))\n",
        "\n",
        "\n",
        "even_sum = 0\n",
        "\n",
        "for sub in test_list:\n",
        "\tfor ele in str(sub):\n",
        "\n",
        "\t\t# adding in particular summation according to value\n",
        "\t\tif int(ele) % 2 == 0:\n",
        "\t\t\teven_sum += int(ele)\n",
        "\n",
        "\n",
        "# printing result\n",
        "print(\"Even digit sum : \" + str(even_sum))\n"
      ],
      "metadata": {
        "colab": {
          "base_uri": "https://localhost:8080/"
        },
        "id": "rbb2u0-uPMkk",
        "outputId": "a0e59c5d-ef43-4e76-d1e5-bc7b2660c739"
      },
      "execution_count": 1,
      "outputs": [
        {
          "output_type": "stream",
          "name": "stdout",
          "text": [
            "The original list is : [345, 893, 1948, 34, 2346]\n",
            "Even digit sum : 40\n"
          ]
        }
      ]
    },
    {
      "cell_type": "markdown",
      "source": [
        " Create a Python function that accepts a string and returns the reverse of that string."
      ],
      "metadata": {
        "id": "0w_eCV-dPtK2"
      }
    },
    {
      "cell_type": "code",
      "source": [
        "txt = \"Hello World\"[::-1]\n",
        "print(txt)"
      ],
      "metadata": {
        "colab": {
          "base_uri": "https://localhost:8080/"
        },
        "id": "_j1flbx7Puxk",
        "outputId": "32c561ca-bc45-4c09-e44e-028abbbc938d"
      },
      "execution_count": 2,
      "outputs": [
        {
          "output_type": "stream",
          "name": "stdout",
          "text": [
            "dlroW olleH\n"
          ]
        }
      ]
    },
    {
      "cell_type": "markdown",
      "source": [
        "Implement a Python function that takes a list of integers and returns a new list containing the squares of\n",
        "each number."
      ],
      "metadata": {
        "id": "y2xCnRCpP636"
      }
    },
    {
      "cell_type": "code",
      "source": [
        "def generate_lists(start, end):\n",
        "    numbers = list(range(start, end + 1))\n",
        "    squares = list(map(lambda x: x ** 2, numbers))\n",
        "    cubes = list(map(lambda x: x ** 3, numbers))\n",
        "\n",
        "    return numbers, squares, cubes\n",
        "\n",
        "if __name__ == &quot;__main__&quot;:\n",
        "    start_num = 1  # Start number\n",
        "    end_num = 5    # End number\n",
        "\n",
        "    numbers_list, squares_list, cubes_list = generate_lists(start_num, end_num)\n",
        "\n",
        "    # Print the lists\n",
        "    print(&quot;Numbers:&quot;, numbers_list)\n",
        "    print(&quot;Squares:&quot;, squares_list)\n",
        "    print(&quot;Cubes:&quot;, cubes_list)"
      ],
      "metadata": {
        "colab": {
          "base_uri": "https://localhost:8080/",
          "height": 109
        },
        "id": "uRccQs47QwYc",
        "outputId": "ecdb2a2a-78dc-4c92-c9d5-7c08d72c8e9a"
      },
      "execution_count": 6,
      "outputs": [
        {
          "output_type": "error",
          "ename": "SyntaxError",
          "evalue": "invalid syntax (<ipython-input-6-1d1b208b92f3>, line 8)",
          "traceback": [
            "\u001b[0;36m  File \u001b[0;32m\"<ipython-input-6-1d1b208b92f3>\"\u001b[0;36m, line \u001b[0;32m8\u001b[0m\n\u001b[0;31m    if __name__ == &quot;__main__&quot;:\u001b[0m\n\u001b[0m                   ^\u001b[0m\n\u001b[0;31mSyntaxError\u001b[0m\u001b[0;31m:\u001b[0m invalid syntax\n"
          ]
        }
      ]
    },
    {
      "cell_type": "markdown",
      "source": [],
      "metadata": {
        "id": "TOft3BA3PFm8"
      }
    },
    {
      "cell_type": "markdown",
      "source": [
        " Create an iterator class in Python that generates the Fibonacci sequence up to a specified number of\n",
        "terms."
      ],
      "metadata": {
        "id": "6im58bqVQ26C"
      }
    },
    {
      "cell_type": "code",
      "source": [
        "#defining function to return list of fibonacci elements\n",
        "def fibonacci(n):\n",
        "\n",
        "    l = [0,1]\n",
        "    for i in range(2,n):\n",
        "        l.append(l[-1]+l[-2])\n",
        "    return l\n",
        "\n",
        "#Main function\n",
        "if __name__ == \"__main__\":\n",
        "   #defining the total number of elements\n",
        "    n = 10\n",
        "\n",
        "    #calling of function\n",
        "    fibo = fibonacci(n)\n",
        "\n",
        "    #displaying the function\n",
        "    print(\"Fibonacci Series: \",*fibo)"
      ],
      "metadata": {
        "colab": {
          "base_uri": "https://localhost:8080/"
        },
        "id": "KJFPpcJuREMa",
        "outputId": "fe9e41ef-8f9f-4c9b-a642-142de29189d3"
      },
      "execution_count": 7,
      "outputs": [
        {
          "output_type": "stream",
          "name": "stdout",
          "text": [
            "Fibonacci Series:  0 1 1 2 3 5 8 13 21 34\n"
          ]
        }
      ]
    },
    {
      "cell_type": "markdown",
      "source": [
        " Write a generator function in Python that yields the powers of 2 up to a given exponent."
      ],
      "metadata": {
        "id": "WmFvUMYLRMXZ"
      }
    },
    {
      "cell_type": "code",
      "source": [
        "def power_generator(base, exponent):\n",
        "    result = 1\n",
        "    for i in range(exponent + 1):\n",
        "        yield result\n",
        "        result *= base\n",
        "\n",
        "# Accept input from the user\n",
        "base = int(input(\"Input the base number: \"))\n",
        "exponent = int(input(\"Input the exponent: \"))\n",
        "\n",
        "# Create the generator object\n",
        "power_gen = power_generator(base, exponent)\n",
        "\n",
        "# Generate and print the powers\n",
        "print(f\"Powers of {base} up to exponent {exponent}:\")\n",
        "for power in power_gen:\n",
        "    print(power)\n"
      ],
      "metadata": {
        "colab": {
          "base_uri": "https://localhost:8080/"
        },
        "id": "jOICtUJkRNs8",
        "outputId": "2120a684-a134-4b69-d562-6c195f8ee216"
      },
      "execution_count": 8,
      "outputs": [
        {
          "output_type": "stream",
          "name": "stdout",
          "text": [
            "Input the base number: 2\n",
            "Input the exponent: 3\n",
            "Powers of 2 up to exponent 3:\n",
            "1\n",
            "2\n",
            "4\n",
            "8\n"
          ]
        }
      ]
    },
    {
      "cell_type": "markdown",
      "source": [
        " Implement a generator function that reads a file line by line and yields each line as a string."
      ],
      "metadata": {
        "id": "S1DVTcsmRekO"
      }
    },
    {
      "cell_type": "code",
      "source": [
        "# Open the file in read mode\n",
        "with open('filename.txt', 'r') as file:\n",
        "    # Read each line in the file\n",
        "    for line in file:\n",
        "        # Print each line\n",
        "        print(line.strip())"
      ],
      "metadata": {
        "colab": {
          "base_uri": "https://localhost:8080/",
          "height": 217
        },
        "id": "jOT3pK8tRoXk",
        "outputId": "7182f9ca-764d-4214-f96b-82418086aba1"
      },
      "execution_count": 9,
      "outputs": [
        {
          "output_type": "error",
          "ename": "FileNotFoundError",
          "evalue": "[Errno 2] No such file or directory: 'filename.txt'",
          "traceback": [
            "\u001b[0;31m---------------------------------------------------------------------------\u001b[0m",
            "\u001b[0;31mFileNotFoundError\u001b[0m                         Traceback (most recent call last)",
            "\u001b[0;32m<ipython-input-9-4e694c223bff>\u001b[0m in \u001b[0;36m<cell line: 0>\u001b[0;34m()\u001b[0m\n\u001b[1;32m      1\u001b[0m \u001b[0;31m# Open the file in read mode\u001b[0m\u001b[0;34m\u001b[0m\u001b[0;34m\u001b[0m\u001b[0m\n\u001b[0;32m----> 2\u001b[0;31m \u001b[0;32mwith\u001b[0m \u001b[0mopen\u001b[0m\u001b[0;34m(\u001b[0m\u001b[0;34m'filename.txt'\u001b[0m\u001b[0;34m,\u001b[0m \u001b[0;34m'r'\u001b[0m\u001b[0;34m)\u001b[0m \u001b[0;32mas\u001b[0m \u001b[0mfile\u001b[0m\u001b[0;34m:\u001b[0m\u001b[0;34m\u001b[0m\u001b[0;34m\u001b[0m\u001b[0m\n\u001b[0m\u001b[1;32m      3\u001b[0m     \u001b[0;31m# Read each line in the file\u001b[0m\u001b[0;34m\u001b[0m\u001b[0;34m\u001b[0m\u001b[0m\n\u001b[1;32m      4\u001b[0m     \u001b[0;32mfor\u001b[0m \u001b[0mline\u001b[0m \u001b[0;32min\u001b[0m \u001b[0mfile\u001b[0m\u001b[0;34m:\u001b[0m\u001b[0;34m\u001b[0m\u001b[0;34m\u001b[0m\u001b[0m\n\u001b[1;32m      5\u001b[0m         \u001b[0;31m# Print each line\u001b[0m\u001b[0;34m\u001b[0m\u001b[0;34m\u001b[0m\u001b[0m\n",
            "\u001b[0;31mFileNotFoundError\u001b[0m: [Errno 2] No such file or directory: 'filename.txt'"
          ]
        }
      ]
    },
    {
      "cell_type": "markdown",
      "source": [
        " Implement a generator function that reads a file line by line and yields each line as a string."
      ],
      "metadata": {
        "id": "6TjXTFESRuvm"
      }
    },
    {
      "cell_type": "code",
      "source": [
        "csv_gen = csv_reader(\"some_csv.txt\")\n",
        "row_count = 0\n",
        "\n",
        "for row in csv_gen:\n",
        "    row_count += 1\n",
        "\n",
        "print(f\"Row count is {row_count}\")"
      ],
      "metadata": {
        "colab": {
          "base_uri": "https://localhost:8080/",
          "height": 217
        },
        "id": "0dYFTp4bR-P4",
        "outputId": "dfd76158-d5b3-489b-ccc3-83d1e2daa8db"
      },
      "execution_count": 10,
      "outputs": [
        {
          "output_type": "error",
          "ename": "NameError",
          "evalue": "name 'csv_reader' is not defined",
          "traceback": [
            "\u001b[0;31m---------------------------------------------------------------------------\u001b[0m",
            "\u001b[0;31mNameError\u001b[0m                                 Traceback (most recent call last)",
            "\u001b[0;32m<ipython-input-10-bc0c7de6a80f>\u001b[0m in \u001b[0;36m<cell line: 0>\u001b[0;34m()\u001b[0m\n\u001b[0;32m----> 1\u001b[0;31m \u001b[0mcsv_gen\u001b[0m \u001b[0;34m=\u001b[0m \u001b[0mcsv_reader\u001b[0m\u001b[0;34m(\u001b[0m\u001b[0;34m\"some_csv.txt\"\u001b[0m\u001b[0;34m)\u001b[0m\u001b[0;34m\u001b[0m\u001b[0;34m\u001b[0m\u001b[0m\n\u001b[0m\u001b[1;32m      2\u001b[0m \u001b[0mrow_count\u001b[0m \u001b[0;34m=\u001b[0m \u001b[0;36m0\u001b[0m\u001b[0;34m\u001b[0m\u001b[0;34m\u001b[0m\u001b[0m\n\u001b[1;32m      3\u001b[0m \u001b[0;34m\u001b[0m\u001b[0m\n\u001b[1;32m      4\u001b[0m \u001b[0;32mfor\u001b[0m \u001b[0mrow\u001b[0m \u001b[0;32min\u001b[0m \u001b[0mcsv_gen\u001b[0m\u001b[0;34m:\u001b[0m\u001b[0;34m\u001b[0m\u001b[0;34m\u001b[0m\u001b[0m\n\u001b[1;32m      5\u001b[0m     \u001b[0mrow_count\u001b[0m \u001b[0;34m+=\u001b[0m \u001b[0;36m1\u001b[0m\u001b[0;34m\u001b[0m\u001b[0;34m\u001b[0m\u001b[0m\n",
            "\u001b[0;31mNameError\u001b[0m: name 'csv_reader' is not defined"
          ]
        }
      ]
    },
    {
      "cell_type": "markdown",
      "source": [
        "Use a lambda function in Python to sort a list of tuples based on the second element of each tuple."
      ],
      "metadata": {
        "id": "6Wdjk3fXSDGh"
      }
    },
    {
      "cell_type": "code",
      "source": [
        "# Input list of tuples\n",
        "a = [(1, 'Python'), (2, 'with'), (3, 'GFG')]\n",
        "\n",
        "# Define the specific order\n",
        "order = ['with', 'Python', 'GFG']\n",
        "\n",
        "# Sort the list of tuples based on the specific order\n",
        "res = sorted(a, key=lambda x: order.index(x[1]))\n",
        "print(res)"
      ],
      "metadata": {
        "colab": {
          "base_uri": "https://localhost:8080/"
        },
        "id": "F3R2YN49SJKX",
        "outputId": "0ebcfa9c-66c6-40b9-f107-4af5f4f2d23d"
      },
      "execution_count": 11,
      "outputs": [
        {
          "output_type": "stream",
          "name": "stdout",
          "text": [
            "[(2, 'with'), (1, 'Python'), (3, 'GFG')]\n"
          ]
        }
      ]
    },
    {
      "cell_type": "markdown",
      "source": [
        "Write a Python program that uses `map()` to convert a list of temperatures from Celsius to Fahrenheit."
      ],
      "metadata": {
        "id": "Dm2LE7aXSPDa"
      }
    },
    {
      "cell_type": "code",
      "source": [
        "# Temperature in celsius degree\n",
        "celsius = 47\n",
        "\n",
        "# Converting the temperature to\n",
        "# fehrenheit using the formula\n",
        "fahrenheit = (celsius * 1.8) + 32\n",
        "\n",
        "# printing the result\n",
        "print('%.2f Celsius is equivalent to: %.2f Fahrenheit'\n",
        "\t% (celsius, fahrenheit))\n"
      ],
      "metadata": {
        "colab": {
          "base_uri": "https://localhost:8080/"
        },
        "id": "JkwYGm4cSP_A",
        "outputId": "ee3b111d-5770-4366-e7ae-d6679af8f200"
      },
      "execution_count": 12,
      "outputs": [
        {
          "output_type": "stream",
          "name": "stdout",
          "text": [
            "47.00 Celsius is equivalent to: 116.60 Fahrenheit\n"
          ]
        }
      ]
    },
    {
      "cell_type": "markdown",
      "source": [
        " Create a Python program that uses `filter()` to remove all the vowels from a given string."
      ],
      "metadata": {
        "id": "PuMhs9gySY_C"
      }
    },
    {
      "cell_type": "code",
      "source": [
        "string = \"PrepInsta\"\n",
        "\n",
        "vowels = ['a', 'e', 'i', 'o', 'u', 'A', 'E', 'I', 'O', 'U']\n",
        "result = \"\"\n",
        "\n",
        "for i in range(len(string)):\n",
        "    if string[i] not in vowels:\n",
        "        result = result + string[i]\n",
        "\n",
        "print(\"\\nAfter removing Vowels: \", result)"
      ],
      "metadata": {
        "colab": {
          "base_uri": "https://localhost:8080/"
        },
        "id": "exPmgvGQSayy",
        "outputId": "716b2a95-a0cb-41df-9454-fa01abfe1c78"
      },
      "execution_count": 13,
      "outputs": [
        {
          "output_type": "stream",
          "name": "stdout",
          "text": [
            "\n",
            "After removing Vowels:  Prpnst\n"
          ]
        }
      ]
    },
    {
      "cell_type": "markdown",
      "source": [
        " Imagine an accounting routine used in a book shop. It works on a list with sublists, which look like this:\n",
        "\n",
        "\n",
        "\n",
        "\n",
        "\n",
        "\n",
        "\n",
        "Write a Python program, which returns a list with 2-tuples. Each tuple consists of the order number and the\n",
        "product of the price per item and the quantity. The product should be increased by 10,- € if the value of the\n",
        "order is smaller than 100,00 €."
      ],
      "metadata": {
        "id": "R0AUWUsjSwiW"
      }
    },
    {
      "cell_type": "markdown",
      "source": [
        "NOT UNDERSTAND THE PROBLEM STATEMENT."
      ],
      "metadata": {
        "id": "KmPQYyH0S5CY"
      }
    },
    {
      "cell_type": "markdown",
      "source": [],
      "metadata": {
        "id": "Vot6ZBytTH8J"
      }
    },
    {
      "cell_type": "code",
      "source": [],
      "metadata": {
        "id": "Cb5Q9PagSx-9"
      },
      "execution_count": null,
      "outputs": []
    },
    {
      "cell_type": "markdown",
      "source": [
        "Write a Python program using lambda and map."
      ],
      "metadata": {
        "id": "CaNsIu-WTOYx"
      }
    },
    {
      "cell_type": "code",
      "source": [
        "s1 = 'GeeksforGeeks'\n",
        "\n",
        "s2 = lambda func: func.upper()\n",
        "print(s2(s1))"
      ],
      "metadata": {
        "colab": {
          "base_uri": "https://localhost:8080/"
        },
        "id": "YikFYmMFTYgg",
        "outputId": "76c7d315-8a39-48cc-8247-7734c8b97110"
      },
      "execution_count": 14,
      "outputs": [
        {
          "output_type": "stream",
          "name": "stdout",
          "text": [
            "GEEKSFORGEEKS\n"
          ]
        }
      ]
    },
    {
      "cell_type": "code",
      "source": [
        "s = ['1', '2', '3', '4']\n",
        "res = map(int, s)\n",
        "print(list(res))"
      ],
      "metadata": {
        "colab": {
          "base_uri": "https://localhost:8080/"
        },
        "id": "vzRREBRWT1F8",
        "outputId": "b13ea453-31f6-4237-8669-222ec6dacdb4"
      },
      "execution_count": 15,
      "outputs": [
        {
          "output_type": "stream",
          "name": "stdout",
          "text": [
            "[1, 2, 3, 4]\n"
          ]
        }
      ]
    },
    {
      "cell_type": "markdown",
      "source": [],
      "metadata": {
        "id": "VHjB61tYSwg6"
      }
    },
    {
      "cell_type": "markdown",
      "source": [],
      "metadata": {
        "id": "6ioeiWr2SPCM"
      }
    },
    {
      "cell_type": "markdown",
      "source": [],
      "metadata": {
        "id": "uS1YJ_fqRejL"
      }
    },
    {
      "cell_type": "markdown",
      "source": [],
      "metadata": {
        "id": "B3ts8RaWQ6Oi"
      }
    }
  ]
}